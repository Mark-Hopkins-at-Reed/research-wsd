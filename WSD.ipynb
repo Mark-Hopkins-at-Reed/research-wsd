{
 "cells": [
  {
   "cell_type": "code",
   "execution_count": null,
   "metadata": {},
   "outputs": [],
   "source": [
    "import torch\n",
    "import pandas as pd\n",
    "import random\n",
    "import seaborn as sns\n",
    "from compare import getExampleSentencesBySense\n",
    "import matplotlib.pyplot as plt\n",
    "import json\n",
    "from experiment import train_lemma_classifiers_with_vec\n",
    "from bert import generate_vectorization\n",
    "from vectrain import *\n",
    "from lemmas import *"
   ]
  },
  {
   "cell_type": "code",
   "execution_count": null,
   "metadata": {},
   "outputs": [],
   "source": [
    "%matplotlib inline\n",
    "sns.set(rc={'figure.figsize':(16,10)})"
   ]
  },
  {
   "cell_type": "code",
   "execution_count": null,
   "metadata": {},
   "outputs": [],
   "source": [
    "#Prepare Data for Bert Graphs\n",
    "data_file = \"data/bert_all_lemmas_data.csv\"\n",
    "df = pd.read_csv(data_file)\n",
    "freq_dict = create_sense_freq_dict()\n",
    "def get_freq(sense):\n",
    "    return freq_dict[sense]\n",
    "df = pd.concat([df, df[\"sense1\"].apply(get_freq).rename(\"sense1_freq\")], axis=1)\n",
    "df = pd.concat([df, df[\"sense2\"].apply(get_freq).rename(\"sense2_freq\")], axis=1)\n",
    "df = df.sort_values(by=\"best_avg_acc\")"
   ]
  },
  {
   "cell_type": "code",
   "execution_count": null,
   "metadata": {},
   "outputs": [],
   "source": [
    "df"
   ]
  },
  {
   "cell_type": "code",
   "execution_count": null,
   "metadata": {},
   "outputs": [],
   "source": [
    "all_lemmas = df\n",
    "plt.xticks(rotation=45)\n",
    "plt.tick_params(\n",
    "    axis='x',          # changes apply to the x-axis\n",
    "    which='both',      # both major and minor ticks are affected\n",
    "    bottom=False,      # ticks along the bottom edge are off\n",
    "    labelbottom=False)\n",
    "all_lemmas_graph = sns.barplot(x=\"lemma\", y=\"best_avg_acc\", data=all_lemmas)"
   ]
  },
  {
   "cell_type": "code",
   "execution_count": null,
   "metadata": {},
   "outputs": [],
   "source": [
    "same_pos = df[df[\"pos1\"] == df[\"pos2\"]]\n",
    "plt.xticks(rotation=45)\n",
    "plt.tick_params(\n",
    "    axis='x',          # changes apply to the x-axis\n",
    "    which='both',      # both major and minor ticks are affected\n",
    "    bottom=False,      # ticks along the bottom edge are off\n",
    "    labelbottom=False)\n",
    "same_pos_graph = sns.barplot(x=\"lemma\", y=\"best_avg_acc\", data=same_pos)"
   ]
  },
  {
   "cell_type": "code",
   "execution_count": null,
   "metadata": {},
   "outputs": [],
   "source": [
    "diff_pos = df[df[\"pos1\"] != df[\"pos2\"]]\n",
    "plt.xticks(rotation=45)\n",
    "plt.tick_params(\n",
    "    axis='x',          # changes apply to the x-axis\n",
    "    which='both',      # both major and minor ticks are affected\n",
    "    bottom=False,      # ticks along the bottom edge are off\n",
    "    labelbottom=False)\n",
    "diff_pos_graph = specs = sns.barplot(x=\"lemma\", y=\"best_avg_acc\", data=diff_pos)"
   ]
  },
  {
   "cell_type": "code",
   "execution_count": null,
   "metadata": {},
   "outputs": [],
   "source": [
    "\n",
    "\n",
    "with open(\"data/sense_to_pofs_dict.json\") as f:\n",
    "    sense_pos_dict = json.load(f)\n",
    "        \n",
    "def get_pair_type(row):\n",
    "    sense1_pos = sense_pos_dict[row[3]]\n",
    "    sense2_pos = sense_pos_dict[row[4]]\n",
    "    if sense1_pos > sense2_pos:\n",
    "        sense1_pos, sense2_pos = sense2_pos, sense1_pos\n",
    "    return sense1_pos+\", \"+sense2_pos"
   ]
  },
  {
   "cell_type": "code",
   "execution_count": null,
   "metadata": {},
   "outputs": [],
   "source": [
    "tmp = df.apply(get_pair_type, axis=1).rename(\"pos_combo\")\n",
    "\n",
    "df_with_pos_combo = pd.concat([df, tmp], axis=1)\n",
    "df_with_pos_combo"
   ]
  },
  {
   "cell_type": "code",
   "execution_count": null,
   "metadata": {},
   "outputs": [],
   "source": [
    "#Remove columns with only one occurance\n",
    "#include all with bars\n",
    "df_with_pos_combo = df_with_pos_combo[df_with_pos_combo[\"pos_combo\"].isin([\"VERB, VERB\",\n",
    "\"ADV, ADV\",\"ADJ, ADJ\",\"NOUN, NOUN\", \"ADJ, ADV\", \"NOUN, VERB\", \"ADJ, NOUN\", \"ADJ, VERB\"])] \n",
    "df_with_pos_combo\n",
    "diff_pos_graph = sns.barplot(x=\"pos_combo\", y=\"best_avg_acc\", data=df_with_pos_combo)"
   ]
  },
  {
   "cell_type": "code",
   "execution_count": null,
   "metadata": {},
   "outputs": [],
   "source": [
    "max_samp_data = df\n",
    "plt.xticks(rotation=45)\n",
    "#add a log scale on the x axis\n",
    "\n",
    "max_samp_graph = sns.scatterplot(x=\"sense2_freq\", y=\"best_avg_acc\", data=max_samp_data)\n",
    "max_samp_graph.set(xscale=\"log\")"
   ]
  },
  {
   "cell_type": "code",
   "execution_count": null,
   "metadata": {},
   "outputs": [],
   "source": [
    "spec_data = pd.read_csv(\"classifier_data_spec8.csv\")\n",
    "\n",
    "#Note: this is based off of a subset of the words\n",
    "specs = sns.barplot(x=\"spec\", y=\"best_avg_acc\", data=spec_data)\n",
    "plt.xticks(rotation=45)\n",
    "plt.show()"
   ]
  },
  {
   "cell_type": "code",
   "execution_count": null,
   "metadata": {},
   "outputs": [],
   "source": [
    "with open(\"neighbor_test_result.json\", \"r\") as f:\n",
    "    neighbors_data = json.load(f)\n",
    "neighbors_data_graph =  sns.barplot(x=list(neighbors_data.keys()), y=list(neighbors_data.values()))"
   ]
  },
  {
   "cell_type": "code",
   "execution_count": null,
   "metadata": {},
   "outputs": [],
   "source": [
    "#Elmo goes below here.\n",
    "elmo_file = \"data/elmo_all_lemmas_data.csv\"\n",
    "elmo_df = pd.read_csv(elmo_file)\n",
    "elmo_df = elmo_df.sort_values(by=\"best_avg_acc\")"
   ]
  },
  {
   "cell_type": "code",
   "execution_count": null,
   "metadata": {},
   "outputs": [],
   "source": [
    "elmo_df"
   ]
  },
  {
   "cell_type": "code",
   "execution_count": null,
   "metadata": {},
   "outputs": [],
   "source": [
    "elmo_all_lemmas = elmo_df\n",
    "plt.xticks(rotation=45)\n",
    "plt.tick_params(\n",
    "    axis='x',          # changes apply to the x-axis\n",
    "    which='both',      # both major and minor ticks are affected\n",
    "    bottom=False,      # ticks along the bottom edge are off\n",
    "    labelbottom=False)\n",
    "elmo_all_lemmas_graph = sns.barplot(x=\"lemma\", y=\"best_avg_acc\", data=elmo_all_lemmas)"
   ]
  },
  {
   "cell_type": "code",
   "execution_count": null,
   "metadata": {},
   "outputs": [],
   "source": [
    "elmo_same_pos = elmo_df[elmo_df[\"pos1\"] == elmo_df[\"pos2\"]]\n",
    "plt.xticks(rotation=45)\n",
    "plt.tick_params(\n",
    "    axis='x',          # changes apply to the x-axis\n",
    "    which='both',      # both major and minor ticks are affected\n",
    "    bottom=False,      # ticks along the bottom edge are off\n",
    "    labelbottom=False)\n",
    "elmo_same_pos_graph = sns.barplot(x=\"lemma\", y=\"best_avg_acc\", data=elmo_same_pos)"
   ]
  },
  {
   "cell_type": "code",
   "execution_count": null,
   "metadata": {},
   "outputs": [],
   "source": [
    "elmo_diff_pos = elmo_df[elmo_df[\"pos1\"] != elmo_df[\"pos2\"]]\n",
    "plt.xticks(rotation=45)\n",
    "plt.tick_params(\n",
    "    axis='x',          # changes apply to the x-axis\n",
    "    which='both',      # both major and minor ticks are affected\n",
    "    bottom=False,      # ticks along the bottom edge are off\n",
    "    labelbottom=False)\n",
    "elmo_diff_pos_graph = sns.barplot(x=\"lemma\", y=\"best_avg_acc\", data=elmo_diff_pos)"
   ]
  },
  {
   "cell_type": "code",
   "execution_count": null,
   "metadata": {},
   "outputs": [],
   "source": [
    "\n",
    "\n",
    "with open(\"data/sense_to_pofs_dict.json\") as f:\n",
    "    sense_pos_dict = json.load(f)\n",
    "        \n",
    "def get_pair_type(row):\n",
    "    sense1_pos = sense_pos_dict[row[3]]\n",
    "    sense2_pos = sense_pos_dict[row[4]]\n",
    "    if sense1_pos > sense2_pos:\n",
    "        sense1_pos, sense2_pos = sense2_pos, sense1_pos\n",
    "    return sense1_pos, sense2_pos"
   ]
  },
  {
   "cell_type": "code",
   "execution_count": null,
   "metadata": {},
   "outputs": [],
   "source": [
    "tmp = df.apply(get_pair_type, axis=1).rename(\"pos_combo\")\n",
    "\n",
    "elmo_df_with_pos_combo = pd.concat([elmo_df, tmp], axis=1)\n",
    "elmo_df_with_pos_combo"
   ]
  },
  {
   "cell_type": "code",
   "execution_count": null,
   "metadata": {},
   "outputs": [],
   "source": [
    "#Note: many of the pos_combos have very few datapoints, in fact several have just one\n",
    "plt.xticks(rotation=45)\n",
    "elmo_df_with_pos_combo = df_with_pos_combo[df_with_pos_combo[\"pos_combo\"].isin([\"VERB, VERB\",\n",
    "\"ADV, ADV\",\"ADJ, ADJ\",\"NOUN, NOUN\", \"ADJ, ADV\", \"NOUN, VERB\", \"ADJ, NOUN\", \"ADJ, VERB\"])] \n",
    "df_with_pos_combo\n",
    "elmo_diff_pos_graph = specs = sns.barplot(x=\"pos_combo\", y=\"best_avg_acc\", data=elmo_df_with_pos_combo)"
   ]
  },
  {
   "cell_type": "code",
   "execution_count": null,
   "metadata": {},
   "outputs": [],
   "source": [
    "elmo_max_samp_data = elmo_df\n",
    "plt.xticks(rotation=45)\n",
    "elmo_max_samp_graph = sns.scatterplot(x=\"sense2_freq\", y=\"best_avg_acc\", data=elmo_max_samp_data)\n",
    "elmo_max_samp_graph.set(xscale=\"log\")"
   ]
  }
 ],
 "metadata": {
  "kernelspec": {
   "display_name": "Python 3",
   "language": "python",
   "name": "python3"
  },
  "language_info": {
   "codemirror_mode": {
    "name": "ipython",
    "version": 3
   },
   "file_extension": ".py",
   "mimetype": "text/x-python",
   "name": "python",
   "nbconvert_exporter": "python",
   "pygments_lexer": "ipython3",
   "version": "3.7.3"
  }
 },
 "nbformat": 4,
 "nbformat_minor": 2
}
